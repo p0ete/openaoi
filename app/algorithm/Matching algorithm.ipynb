{
 "cells": [
  {
   "cell_type": "markdown",
   "metadata": {},
   "source": [
    "# Matching algorithm"
   ]
  },
  {
   "cell_type": "markdown",
   "metadata": {},
   "source": [
    "Make sure that you followed the instructions in the \"Preprocess and label images\" notebook."
   ]
  },
  {
   "cell_type": "markdown",
   "metadata": {},
   "source": [
    "### Import"
   ]
  },
  {
   "cell_type": "code",
   "execution_count": 1,
   "metadata": {},
   "outputs": [],
   "source": [
    "import os\n",
    "import cv2\n",
    "import numpy as np\n",
    "\n",
    "from matplotlib import pyplot as plt"
   ]
  },
  {
   "cell_type": "code",
   "execution_count": 2,
   "metadata": {},
   "outputs": [],
   "source": [
    "resized_images = \"./data/resized/\"\n",
    "labels_folder = \"BBox_Label_Tool/Labels/001/\"\n",
    "SHOW_IMAGES = False"
   ]
  },
  {
   "cell_type": "markdown",
   "metadata": {},
   "source": [
    "### Link each image to its bounding boxes label"
   ]
  },
  {
   "cell_type": "code",
   "execution_count": 3,
   "metadata": {},
   "outputs": [],
   "source": [
    "rects = {}\n",
    "for file in os.listdir(labels_folder):\n",
    "    with open(labels_folder + file, \"r\") as text_file: \n",
    "        lines = text_file.readlines()[1:]\n",
    "        content = [l.replace(\"\\n\", \"\") for l in lines]\n",
    "        labels = set([rect.split(\" \")[-1] for rect in content])\n",
    "        tmp = {}\n",
    "        for lab in labels:\n",
    "            tmp[lab] = [rect.split(\" \")[:-1] for rect in content if lab in rect]\n",
    "        rects[file[:-4]] =  tmp\n",
    "\n",
    "data = {}\n",
    "for img in os.listdir(resized_images):\n",
    "    if img[-4:] == \".jpg\":\n",
    "        ID = img[:-4]\n",
    "        image = cv2.imread(resized_images + img,1)\n",
    "\n",
    "        data[ID] = {\"image\": image, \"rects\": rects[ID]}"
   ]
  },
  {
   "cell_type": "markdown",
   "metadata": {},
   "source": [
    "### Crop the bounding boxes and save them in a folder"
   ]
  },
  {
   "cell_type": "code",
   "execution_count": 4,
   "metadata": {},
   "outputs": [],
   "source": [
    "template_folder = {}\n",
    "for ID in data.keys():\n",
    "    image = data[ID][\"image\"].copy()\n",
    "    for elem in data[ID][\"rects\"].keys():\n",
    "        if not os.path.exists(\"./data/cropped_\"+str(elem)+\"/\"):\n",
    "            os.makedirs(\"./data/cropped_\"+str(elem)+\"/\")\n",
    "        \n",
    "        i = 0\n",
    "        for rect in data[ID][\"rects\"][elem]:\n",
    "            x, y, w, h = [int(elem) for elem in rect]\n",
    "            cropped = image[y:h, x:w]\n",
    "            template_folder[elem] = \"./data/cropped_\"+str(elem)+\"/\"\n",
    "            cv2.imwrite(\"./data/cropped_\"+str(elem)+\"/\" + ID + str(i) + \".jpg\",cropped)\n",
    "            i+=1\n",
    "            if SHOW_IMAGES:\n",
    "                cv2.imshow('image',cropped)\n",
    "                cv2.waitKey(0)\n",
    "                cv2.destroyAllWindows()"
   ]
  },
  {
   "cell_type": "markdown",
   "metadata": {},
   "source": [
    "### Fonction to merge overlapping boxes"
   ]
  },
  {
   "cell_type": "code",
   "execution_count": 5,
   "metadata": {},
   "outputs": [],
   "source": [
    "def non_max_suppression_fast(boxes, overlapThresh):\n",
    "    if len(boxes) == 0:\n",
    "        return []\n",
    "\n",
    "    if boxes.dtype.kind == \"i\":\n",
    "        boxes = boxes.astype(\"float\")\n",
    "\n",
    "    pick = []\n",
    "    \n",
    "    x1 = boxes[:,0]\n",
    "    y1 = boxes[:,1]\n",
    "    x2 = boxes[:,2]\n",
    "    y2 = boxes[:,3]\n",
    "    \n",
    "    area = (x2 - x1 + 1) * (y2 - y1 + 1)\n",
    "    \n",
    "    idxs = np.argsort(y2)\n",
    "    \n",
    "    while len(idxs) > 0:\n",
    "        last = len(idxs) - 1\n",
    "        i = idxs[last]\n",
    "        pick.append(i)\n",
    "        \n",
    "        xx1 = np.maximum(x1[i], x1[idxs[:last]])\n",
    "        yy1 = np.maximum(y1[i], y1[idxs[:last]])\n",
    "        xx2 = np.minimum(x2[i], x2[idxs[:last]])\n",
    "        yy2 = np.minimum(y2[i], y2[idxs[:last]])\n",
    "    \n",
    "        w = np.maximum(0, xx2 - xx1 + 1)\n",
    "        h = np.maximum(0, yy2 - yy1 + 1)\n",
    "    \n",
    "        overlap = (w * h) / area[idxs[:last]]\n",
    "    \n",
    "        idxs = np.delete(idxs, np.concatenate(([last],\n",
    "            np.where(overlap > overlapThresh)[0])))\n",
    "    \n",
    "    return boxes[pick].astype(\"int\")"
   ]
  },
  {
   "cell_type": "markdown",
   "metadata": {},
   "source": [
    "### Fonction to delete the \"bad\" boxes"
   ]
  },
  {
   "cell_type": "code",
   "execution_count": 6,
   "metadata": {},
   "outputs": [],
   "source": [
    "def delete_non_overlapping(boxes, confidence):\n",
    "    if len(boxes) == 0:\n",
    "        return []\n",
    "    \n",
    "    if boxes.dtype.kind == \"i\":\n",
    "        boxes = boxes.astype(\"float\")\n",
    "    \n",
    "    pick = []\n",
    "    \n",
    "    x1 = boxes[:,0]\n",
    "    y1 = boxes[:,1]\n",
    "    x2 = boxes[:,2]\n",
    "    y2 = boxes[:,3]\n",
    "\n",
    "    area = (x2 - x1 + 1) * (y2 - y1 + 1)\n",
    "    \n",
    "    idxs = np.argsort(y2)\n",
    "    \n",
    "    for i in idxs:\n",
    "        idxs_without = np.delete(idxs, np.where(idxs==i)[0])\n",
    "    \n",
    "        xx1 = np.maximum(x1[i], x1[idxs_without])\n",
    "        yy1 = np.maximum(y1[i], y1[idxs_without])\n",
    "        xx2 = np.minimum(x2[i], x2[idxs_without])\n",
    "        yy2 = np.minimum(y2[i], y2[idxs_without])\n",
    "    \n",
    "        w = np.maximum(0, xx2 - xx1 + 1)\n",
    "        h = np.maximum(0, yy2 - yy1 + 1)\n",
    "    \n",
    "        overlap = (w * h) / area[idxs_without]\n",
    "        if len(list(set(overlap))) > confidence:\n",
    "            pick.append(i)\n",
    "      \n",
    "    return boxes[pick].astype(\"int\")"
   ]
  },
  {
   "cell_type": "code",
   "execution_count": null,
   "metadata": {},
   "outputs": [],
   "source": [
    "\n",
    "# All the 6 methods for comparison in a list\n",
    "methods = ['cv2.TM_CCOEFF', 'cv2.TM_CCOEFF_NORMED',\n",
    "                    'cv2.TM_CCORR_NORMED', 'cv2.TM_SQDIFF', 'cv2.TM_SQDIFF_NORMED']\n",
    "#meth = methods[1]\n",
    "\n",
    "\n",
    "object_to_detect = \"fiducial\"\n",
    "show = True\n",
    "images = os.listdir(resized_images)\n",
    "\n",
    "\n",
    "   \n",
    "for image_file in images:\n",
    "\n",
    "    if image_file[-4:] == \".jpg\":\n",
    "        rects = []\n",
    "        #for meth in methods:\n",
    "        meth = methods[0]\n",
    "        img = cv2.imread(resized_images + image_file, 1)\n",
    "        img_copy = img.copy()\n",
    "\n",
    "        img2 = img.copy()\n",
    "        img2 = cv2.cvtColor(img2, cv2.COLOR_BGR2GRAY)\n",
    "\n",
    "        for template_file in os.listdir(template_folder[object_to_detect]):\n",
    "            if template_file[-4:] == \".jpg\":\n",
    "                template = cv2.imread(template_folder[object_to_detect] + template_file,0)\n",
    "                w, h = template.shape[::-1]\n",
    "                #img = img2.copy()\n",
    "                method = eval(meth)\n",
    "\n",
    "                # Apply template Matching\n",
    "                res = cv2.matchTemplate(img2,template,method)\n",
    "                min_val, max_val, min_loc, max_loc = cv2.minMaxLoc(res)\n",
    "\n",
    "                # If the method is TM_SQDIFF or TM_SQDIFF_NORMED, take minimum\n",
    "                if method in [cv2.TM_SQDIFF, cv2.TM_SQDIFF_NORMED]:\n",
    "                    top_left = min_loc\n",
    "                else:\n",
    "                    top_left = max_loc\n",
    "                bottom_right = (top_left[0] + w, top_left[1] + h)\n",
    "\n",
    "                rects.append([top_left[0], top_left[1], bottom_right[0], bottom_right[1]])\n",
    "\n",
    "                cv2.rectangle(img_copy,top_left, bottom_right, 255, 2)\n",
    "        new_rect = []\n",
    "        for r in rects:\n",
    "            new_rect.append((r[0], r[1], r[2], r[3]))\n",
    "\n",
    "        new_rect = np.array(new_rect)\n",
    "\n",
    "\n",
    "        img_copy = img.copy()\n",
    "\n",
    "        final_BB = delete_non_overlapping(new_rect, 1)\n",
    "        final_BB = non_max_suppression_fast(final_BB,0.1)\n",
    "\n",
    "        for r in final_BB:\n",
    "            cv2.rectangle(img_copy,(r[0], r[1]), (r[2], r[3]), 255, 2)\n",
    "        if SHOW_IMAGES:\n",
    "            cv2.imshow('image',img_copy)\n",
    "            cv2.waitKey(0)\n",
    "            cv2.destroyAllWindows()\n",
    "    \n",
    "\n",
    "        \n"
   ]
  },
  {
   "cell_type": "code",
   "execution_count": 10,
   "metadata": {},
   "outputs": [],
   "source": []
  },
  {
   "cell_type": "code",
   "execution_count": 10,
   "metadata": {},
   "outputs": [],
   "source": []
  },
  {
   "cell_type": "code",
   "execution_count": null,
   "metadata": {},
   "outputs": [],
   "source": []
  }
 ],
 "metadata": {
  "kernelspec": {
   "display_name": "Python 3",
   "language": "python",
   "name": "python3"
  },
  "language_info": {
   "codemirror_mode": {
    "name": "ipython",
    "version": 3
   },
   "file_extension": ".py",
   "mimetype": "text/x-python",
   "name": "python",
   "nbconvert_exporter": "python",
   "pygments_lexer": "ipython3",
   "version": "3.6.7"
  }
 },
 "nbformat": 4,
 "nbformat_minor": 2
}
